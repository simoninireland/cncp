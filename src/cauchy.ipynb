{
 "cells": [
  {
   "cell_type": "markdown",
   "id": "7028d361",
   "metadata": {},
   "source": [
    "# High-degree differentiation"
   ]
  },
  {
   "cell_type": "markdown",
   "id": "cc77f22f",
   "metadata": {},
   "source": [
    "...\n",
    "\n",
    "We often need to perform differentiation numerically, however: perhaps because the expression isn;t available, or doesn't have a closed-form derivative, or we simply can't (or don't want to) work symbolically. In that case we need numerical differentiation.\n"
   ]
  },
  {
   "cell_type": "code",
   "execution_count": null,
   "id": "5e979877",
   "metadata": {},
   "outputs": [],
   "source": []
  }
 ],
 "metadata": {
  "kernelspec": {
   "display_name": "Python 3",
   "language": "python",
   "name": "python3"
  },
  "language_info": {
   "codemirror_mode": {
    "name": "ipython",
    "version": 3
   },
   "file_extension": ".py",
   "mimetype": "text/x-python",
   "name": "python",
   "nbconvert_exporter": "python",
   "pygments_lexer": "ipython3",
   "version": "3.9.4"
  }
 },
 "nbformat": 4,
 "nbformat_minor": 5
}
